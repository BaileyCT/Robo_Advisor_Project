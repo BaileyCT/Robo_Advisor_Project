{
 "cells": [
  {
   "cell_type": "code",
   "execution_count": null,
   "id": "716027fb-f384-4ba1-bdd5-c0a352c30c63",
   "metadata": {},
   "outputs": [],
   "source": [
    "#Welcome tab with returns\n",
    "\n",
    "# Create the functions for each graph on the dashboard \n",
    "\n",
    "#create the slider for inital investment\n",
    "\n",
    "#create the slider for the type of portfolio\n",
    "\n",
    "# Expected return line graph\n",
    "# take the mean return from the MCS and plot. creating a dynamic chart that updates when a user selects the inital investment and the type of risk portfolio"
   ]
  },
  {
   "cell_type": "code",
   "execution_count": null,
   "id": "8de26a2c-b51c-4437-8685-44a92d7440b4",
   "metadata": {},
   "outputs": [],
   "source": [
    "#Tab 2 set up\n",
    "\n",
    "# MCS simulation data \n",
    "# beta plot function\n",
    "\n",
    "\n",
    "#Sharpe Ratio plot\n",
    "\n",
    "#MCS cummulative returns plot\n",
    "\n",
    "#Table of summary statistics"
   ]
  },
  {
   "cell_type": "code",
   "execution_count": null,
   "id": "33a54bdf-5c63-4b03-93e6-0d3ad5451e51",
   "metadata": {},
   "outputs": [],
   "source": [
    "#Tab 3 set up Pyviz\n",
    "\n",
    "#Pie Chart function to minic etf allocation from ishare \n",
    "    #utilize the allocation table Antonio put together \n",
    "    \n",
    "    \n",
    "#Market allocation char \n",
    "    #first iteration have a bar chart\n",
    "    #second iteration have a Mapbox plot highlighting the countries if possible\n",
    "    \n",
    "#top weighiting table\n",
    "    #dynamic with the type of portfolio the user has selected"
   ]
  }
 ],
 "metadata": {
  "kernelspec": {
   "display_name": "Python [conda env:pyvizenv] *",
   "language": "python",
   "name": "conda-env-pyvizenv-py"
  },
  "language_info": {
   "codemirror_mode": {
    "name": "ipython",
    "version": 3
   },
   "file_extension": ".py",
   "mimetype": "text/x-python",
   "name": "python",
   "nbconvert_exporter": "python",
   "pygments_lexer": "ipython3",
   "version": "3.7.10"
  }
 },
 "nbformat": 4,
 "nbformat_minor": 5
}
